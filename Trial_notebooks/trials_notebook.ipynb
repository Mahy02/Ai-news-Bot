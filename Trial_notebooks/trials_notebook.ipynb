{
 "cells": [
  {
   "cell_type": "code",
   "execution_count": 6,
   "metadata": {},
   "outputs": [
    {
     "name": "stdout",
     "output_type": "stream",
     "text": [
      "Requirement already satisfied: pytube in c:\\users\\mahinour elsarky\\appdata\\local\\programs\\python\\python311\\lib\\site-packages (15.0.0)\n"
     ]
    },
    {
     "name": "stderr",
     "output_type": "stream",
     "text": [
      "\n",
      "[notice] A new release of pip is available: 23.1.2 -> 23.2.1\n",
      "[notice] To update, run: C:\\Users\\Mahinour Elsarky\\AppData\\Local\\Programs\\Python\\Python311\\python.exe -m pip install --upgrade pip\n"
     ]
    }
   ],
   "source": [
    "!pip install pytube"
   ]
  },
  {
   "cell_type": "code",
   "execution_count": 7,
   "metadata": {},
   "outputs": [
    {
     "name": "stdout",
     "output_type": "stream",
     "text": [
      "Requirement already satisfied: pytube3 in c:\\users\\mahinour elsarky\\appdata\\local\\programs\\python\\python311\\lib\\site-packages (9.6.4)\n",
      "Requirement already satisfied: typing-extensions in c:\\users\\mahinour elsarky\\appdata\\local\\programs\\python\\python311\\lib\\site-packages (from pytube3) (4.5.0)\n"
     ]
    },
    {
     "name": "stderr",
     "output_type": "stream",
     "text": [
      "\n",
      "[notice] A new release of pip is available: 23.1.2 -> 23.2.1\n",
      "[notice] To update, run: C:\\Users\\Mahinour Elsarky\\AppData\\Local\\Programs\\Python\\Python311\\python.exe -m pip install --upgrade pip\n"
     ]
    }
   ],
   "source": [
    "!pip install pytube3"
   ]
  },
  {
   "cell_type": "code",
   "execution_count": 8,
   "metadata": {},
   "outputs": [
    {
     "name": "stdout",
     "output_type": "stream",
     "text": [
      "Requirement already satisfied: tiktoken in c:\\users\\mahinour elsarky\\appdata\\local\\programs\\python\\python311\\lib\\site-packages (0.4.0)\n",
      "Requirement already satisfied: regex>=2022.1.18 in c:\\users\\mahinour elsarky\\appdata\\local\\programs\\python\\python311\\lib\\site-packages (from tiktoken) (2023.6.3)\n",
      "Requirement already satisfied: requests>=2.26.0 in c:\\users\\mahinour elsarky\\appdata\\local\\programs\\python\\python311\\lib\\site-packages (from tiktoken) (2.31.0)\n",
      "Requirement already satisfied: charset-normalizer<4,>=2 in c:\\users\\mahinour elsarky\\appdata\\local\\programs\\python\\python311\\lib\\site-packages (from requests>=2.26.0->tiktoken) (3.1.0)\n",
      "Requirement already satisfied: idna<4,>=2.5 in c:\\users\\mahinour elsarky\\appdata\\local\\programs\\python\\python311\\lib\\site-packages (from requests>=2.26.0->tiktoken) (3.4)\n",
      "Requirement already satisfied: urllib3<3,>=1.21.1 in c:\\users\\mahinour elsarky\\appdata\\local\\programs\\python\\python311\\lib\\site-packages (from requests>=2.26.0->tiktoken) (2.0.2)\n",
      "Requirement already satisfied: certifi>=2017.4.17 in c:\\users\\mahinour elsarky\\appdata\\local\\programs\\python\\python311\\lib\\site-packages (from requests>=2.26.0->tiktoken) (2022.12.7)\n"
     ]
    },
    {
     "name": "stderr",
     "output_type": "stream",
     "text": [
      "\n",
      "[notice] A new release of pip is available: 23.1.2 -> 23.2.1\n",
      "[notice] To update, run: C:\\Users\\Mahinour Elsarky\\AppData\\Local\\Programs\\Python\\Python311\\python.exe -m pip install --upgrade pip\n"
     ]
    }
   ],
   "source": [
    "!pip install tiktoken"
   ]
  },
  {
   "cell_type": "code",
   "execution_count": 9,
   "metadata": {},
   "outputs": [
    {
     "name": "stdout",
     "output_type": "stream",
     "text": [
      "Requirement already satisfied: langchain in c:\\users\\mahinour elsarky\\appdata\\local\\programs\\python\\python311\\lib\\site-packages (0.0.283)\n",
      "Requirement already satisfied: openai in c:\\users\\mahinour elsarky\\appdata\\local\\programs\\python\\python311\\lib\\site-packages (0.27.8)\n",
      "Requirement already satisfied: PyYAML>=5.3 in c:\\users\\mahinour elsarky\\appdata\\local\\programs\\python\\python311\\lib\\site-packages (from langchain) (6.0)\n",
      "Requirement already satisfied: SQLAlchemy<3,>=1.4 in c:\\users\\mahinour elsarky\\appdata\\local\\programs\\python\\python311\\lib\\site-packages (from langchain) (1.4.48)\n",
      "Requirement already satisfied: aiohttp<4.0.0,>=3.8.3 in c:\\users\\mahinour elsarky\\appdata\\local\\programs\\python\\python311\\lib\\site-packages (from langchain) (3.8.4)\n",
      "Requirement already satisfied: dataclasses-json<0.6.0,>=0.5.7 in c:\\users\\mahinour elsarky\\appdata\\local\\programs\\python\\python311\\lib\\site-packages (from langchain) (0.5.8)\n",
      "Requirement already satisfied: langsmith<0.1.0,>=0.0.21 in c:\\users\\mahinour elsarky\\appdata\\local\\programs\\python\\python311\\lib\\site-packages (from langchain) (0.0.33)\n",
      "Requirement already satisfied: numexpr<3.0.0,>=2.8.4 in c:\\users\\mahinour elsarky\\appdata\\local\\programs\\python\\python311\\lib\\site-packages (from langchain) (2.8.4)\n",
      "Requirement already satisfied: numpy<2,>=1 in c:\\users\\mahinour elsarky\\appdata\\local\\programs\\python\\python311\\lib\\site-packages (from langchain) (1.23.5)\n",
      "Requirement already satisfied: pydantic<3,>=1 in c:\\users\\mahinour elsarky\\appdata\\local\\programs\\python\\python311\\lib\\site-packages (from langchain) (1.10.9)\n",
      "Requirement already satisfied: requests<3,>=2 in c:\\users\\mahinour elsarky\\appdata\\local\\programs\\python\\python311\\lib\\site-packages (from langchain) (2.31.0)\n",
      "Requirement already satisfied: tenacity<9.0.0,>=8.1.0 in c:\\users\\mahinour elsarky\\appdata\\local\\programs\\python\\python311\\lib\\site-packages (from langchain) (8.2.2)\n",
      "Requirement already satisfied: tqdm in c:\\users\\mahinour elsarky\\appdata\\local\\programs\\python\\python311\\lib\\site-packages (from openai) (4.65.0)\n",
      "Requirement already satisfied: attrs>=17.3.0 in c:\\users\\mahinour elsarky\\appdata\\local\\programs\\python\\python311\\lib\\site-packages (from aiohttp<4.0.0,>=3.8.3->langchain) (23.1.0)\n",
      "Requirement already satisfied: charset-normalizer<4.0,>=2.0 in c:\\users\\mahinour elsarky\\appdata\\local\\programs\\python\\python311\\lib\\site-packages (from aiohttp<4.0.0,>=3.8.3->langchain) (3.1.0)\n",
      "Requirement already satisfied: multidict<7.0,>=4.5 in c:\\users\\mahinour elsarky\\appdata\\local\\programs\\python\\python311\\lib\\site-packages (from aiohttp<4.0.0,>=3.8.3->langchain) (6.0.4)\n",
      "Requirement already satisfied: async-timeout<5.0,>=4.0.0a3 in c:\\users\\mahinour elsarky\\appdata\\local\\programs\\python\\python311\\lib\\site-packages (from aiohttp<4.0.0,>=3.8.3->langchain) (4.0.2)\n",
      "Requirement already satisfied: yarl<2.0,>=1.0 in c:\\users\\mahinour elsarky\\appdata\\local\\programs\\python\\python311\\lib\\site-packages (from aiohttp<4.0.0,>=3.8.3->langchain) (1.9.2)\n",
      "Requirement already satisfied: frozenlist>=1.1.1 in c:\\users\\mahinour elsarky\\appdata\\local\\programs\\python\\python311\\lib\\site-packages (from aiohttp<4.0.0,>=3.8.3->langchain) (1.3.3)\n",
      "Requirement already satisfied: aiosignal>=1.1.2 in c:\\users\\mahinour elsarky\\appdata\\local\\programs\\python\\python311\\lib\\site-packages (from aiohttp<4.0.0,>=3.8.3->langchain) (1.3.1)\n",
      "Requirement already satisfied: marshmallow<4.0.0,>=3.3.0 in c:\\users\\mahinour elsarky\\appdata\\local\\programs\\python\\python311\\lib\\site-packages (from dataclasses-json<0.6.0,>=0.5.7->langchain) (3.19.0)\n",
      "Requirement already satisfied: marshmallow-enum<2.0.0,>=1.5.1 in c:\\users\\mahinour elsarky\\appdata\\local\\programs\\python\\python311\\lib\\site-packages (from dataclasses-json<0.6.0,>=0.5.7->langchain) (1.5.1)\n",
      "Requirement already satisfied: typing-inspect>=0.4.0 in c:\\users\\mahinour elsarky\\appdata\\local\\programs\\python\\python311\\lib\\site-packages (from dataclasses-json<0.6.0,>=0.5.7->langchain) (0.9.0)\n",
      "Requirement already satisfied: typing-extensions>=4.2.0 in c:\\users\\mahinour elsarky\\appdata\\local\\programs\\python\\python311\\lib\\site-packages (from pydantic<3,>=1->langchain) (4.5.0)\n",
      "Requirement already satisfied: idna<4,>=2.5 in c:\\users\\mahinour elsarky\\appdata\\local\\programs\\python\\python311\\lib\\site-packages (from requests<3,>=2->langchain) (3.4)\n",
      "Requirement already satisfied: urllib3<3,>=1.21.1 in c:\\users\\mahinour elsarky\\appdata\\local\\programs\\python\\python311\\lib\\site-packages (from requests<3,>=2->langchain) (2.0.2)\n",
      "Requirement already satisfied: certifi>=2017.4.17 in c:\\users\\mahinour elsarky\\appdata\\local\\programs\\python\\python311\\lib\\site-packages (from requests<3,>=2->langchain) (2022.12.7)\n",
      "Requirement already satisfied: greenlet!=0.4.17 in c:\\users\\mahinour elsarky\\appdata\\local\\programs\\python\\python311\\lib\\site-packages (from SQLAlchemy<3,>=1.4->langchain) (2.0.2)\n",
      "Requirement already satisfied: colorama in c:\\users\\mahinour elsarky\\appdata\\local\\programs\\python\\python311\\lib\\site-packages (from tqdm->openai) (0.4.6)\n",
      "Requirement already satisfied: packaging>=17.0 in c:\\users\\mahinour elsarky\\appdata\\local\\programs\\python\\python311\\lib\\site-packages (from marshmallow<4.0.0,>=3.3.0->dataclasses-json<0.6.0,>=0.5.7->langchain) (23.1)\n",
      "Requirement already satisfied: mypy-extensions>=0.3.0 in c:\\users\\mahinour elsarky\\appdata\\local\\programs\\python\\python311\\lib\\site-packages (from typing-inspect>=0.4.0->dataclasses-json<0.6.0,>=0.5.7->langchain) (1.0.0)\n"
     ]
    },
    {
     "name": "stderr",
     "output_type": "stream",
     "text": [
      "\n",
      "[notice] A new release of pip is available: 23.1.2 -> 23.2.1\n",
      "[notice] To update, run: C:\\Users\\Mahinour Elsarky\\AppData\\Local\\Programs\\Python\\Python311\\python.exe -m pip install --upgrade pip\n"
     ]
    }
   ],
   "source": [
    "!pip install langchain openai"
   ]
  },
  {
   "cell_type": "code",
   "execution_count": 10,
   "metadata": {},
   "outputs": [
    {
     "data": {
      "text/plain": [
       "True"
      ]
     },
     "execution_count": 10,
     "metadata": {},
     "output_type": "execute_result"
    }
   ],
   "source": [
    "# LangChain basics\n",
    "from langchain.chat_models import ChatOpenAI\n",
    "from langchain.llms import OpenAI\n",
    "from langchain.text_splitter import RecursiveCharacterTextSplitter\n",
    "from langchain.chains.summarize import load_summarize_chain\n",
    "\n",
    "\n",
    "\n",
    "# Langchain Loaders:\n",
    "from langchain.document_loaders import YoutubeLoader\n",
    "\n",
    "# Vector Store and retrievals\n",
    "from langchain.embeddings.openai import OpenAIEmbeddings\n",
    "from langchain.chains import RetrievalQA\n",
    "from langchain.vectorstores import FAISS\n",
    "#import pinecone\n",
    "\n",
    "# Chat Prompt templates for dynamic values\n",
    "from langchain.prompts.chat import (\n",
    "    ChatPromptTemplate,\n",
    "    SystemMessagePromptTemplate,\n",
    "    HumanMessagePromptTemplate\n",
    ")\n",
    "\n",
    "# Supporting libraries\n",
    "import os\n",
    "from dotenv import load_dotenv\n",
    "\n",
    "load_dotenv()"
   ]
  },
  {
   "cell_type": "code",
   "execution_count": 11,
   "metadata": {},
   "outputs": [
    {
     "name": "stdout",
     "output_type": "stream",
     "text": [
      "Requirement already satisfied: pytube3 in c:\\users\\mahinour elsarky\\appdata\\local\\programs\\python\\python311\\lib\\site-packages (9.6.4)\n",
      "Requirement already satisfied: typing-extensions in c:\\users\\mahinour elsarky\\appdata\\local\\programs\\python\\python311\\lib\\site-packages (from pytube3) (4.5.0)\n"
     ]
    },
    {
     "name": "stderr",
     "output_type": "stream",
     "text": [
      "\n",
      "[notice] A new release of pip is available: 23.1.2 -> 23.2.1\n",
      "[notice] To update, run: C:\\Users\\Mahinour Elsarky\\AppData\\Local\\Programs\\Python\\Python311\\python.exe -m pip install --upgrade pip\n"
     ]
    }
   ],
   "source": [
    "!pip install pytube3"
   ]
  },
  {
   "cell_type": "code",
   "execution_count": 17,
   "metadata": {},
   "outputs": [
    {
     "ename": "ImportError",
     "evalue": "Could not import pytube python package. Please install it with `pip install pytube`.",
     "output_type": "error",
     "traceback": [
      "\u001b[1;31m---------------------------------------------------------------------------\u001b[0m",
      "\u001b[1;31mModuleNotFoundError\u001b[0m                       Traceback (most recent call last)",
      "File \u001b[1;32mc:\\Users\\Mahinour Elsarky\\.pyenv\\pyenv-win\\versions\\3.10.11\\lib\\site-packages\\langchain\\document_loaders\\youtube.py:230\u001b[0m, in \u001b[0;36mYoutubeLoader._get_video_info\u001b[1;34m(self)\u001b[0m\n\u001b[0;32m    229\u001b[0m \u001b[39mtry\u001b[39;00m:\n\u001b[1;32m--> 230\u001b[0m     \u001b[39mfrom\u001b[39;00m \u001b[39mpytube\u001b[39;00m \u001b[39mimport\u001b[39;00m YouTube\n\u001b[0;32m    232\u001b[0m \u001b[39mexcept\u001b[39;00m \u001b[39mImportError\u001b[39;00m:\n",
      "\u001b[1;31mModuleNotFoundError\u001b[0m: No module named 'pytube'",
      "\nDuring handling of the above exception, another exception occurred:\n",
      "\u001b[1;31mImportError\u001b[0m                               Traceback (most recent call last)",
      "Cell \u001b[1;32mIn[17], line 3\u001b[0m\n\u001b[0;32m      1\u001b[0m youtube_loader \u001b[39m=\u001b[39m YoutubeLoader\u001b[39m.\u001b[39mfrom_youtube_url(\u001b[39m\"\u001b[39m\u001b[39mhttps://youtu.be/5p248yoa3oE?si=TATgA2GMtcQ_MjEA\u001b[39m\u001b[39m\"\u001b[39m)\n\u001b[0;32m      2\u001b[0m youtube_loader\u001b[39m.\u001b[39madd_video_info\u001b[39m=\u001b[39m \u001b[39mTrue\u001b[39;00m\n\u001b[1;32m----> 3\u001b[0m transcript \u001b[39m=\u001b[39m youtube_loader\u001b[39m.\u001b[39;49mload()\n\u001b[0;32m      4\u001b[0m video_info\u001b[39m=\u001b[39m youtube_loader\u001b[39m.\u001b[39m_get_video_info()\n\u001b[0;32m      5\u001b[0m \u001b[39m# video_publish_date= video_info[\"publish_date\"]\u001b[39;00m\n",
      "File \u001b[1;32mc:\\Users\\Mahinour Elsarky\\.pyenv\\pyenv-win\\versions\\3.10.11\\lib\\site-packages\\langchain\\document_loaders\\youtube.py:198\u001b[0m, in \u001b[0;36mYoutubeLoader.load\u001b[1;34m(self)\u001b[0m\n\u001b[0;32m    193\u001b[0m metadata \u001b[39m=\u001b[39m {\u001b[39m\"\u001b[39m\u001b[39msource\u001b[39m\u001b[39m\"\u001b[39m: \u001b[39mself\u001b[39m\u001b[39m.\u001b[39mvideo_id}\n\u001b[0;32m    195\u001b[0m \u001b[39mif\u001b[39;00m \u001b[39mself\u001b[39m\u001b[39m.\u001b[39madd_video_info:\n\u001b[0;32m    196\u001b[0m     \u001b[39m# Get more video meta info\u001b[39;00m\n\u001b[0;32m    197\u001b[0m     \u001b[39m# Such as title, description, thumbnail url, publish_date\u001b[39;00m\n\u001b[1;32m--> 198\u001b[0m     video_info \u001b[39m=\u001b[39m \u001b[39mself\u001b[39;49m\u001b[39m.\u001b[39;49m_get_video_info()\n\u001b[0;32m    199\u001b[0m     metadata\u001b[39m.\u001b[39mupdate(video_info)\n\u001b[0;32m    201\u001b[0m \u001b[39mtry\u001b[39;00m:\n",
      "File \u001b[1;32mc:\\Users\\Mahinour Elsarky\\.pyenv\\pyenv-win\\versions\\3.10.11\\lib\\site-packages\\langchain\\document_loaders\\youtube.py:233\u001b[0m, in \u001b[0;36mYoutubeLoader._get_video_info\u001b[1;34m(self)\u001b[0m\n\u001b[0;32m    230\u001b[0m     \u001b[39mfrom\u001b[39;00m \u001b[39mpytube\u001b[39;00m \u001b[39mimport\u001b[39;00m YouTube\n\u001b[0;32m    232\u001b[0m \u001b[39mexcept\u001b[39;00m \u001b[39mImportError\u001b[39;00m:\n\u001b[1;32m--> 233\u001b[0m     \u001b[39mraise\u001b[39;00m \u001b[39mImportError\u001b[39;00m(\n\u001b[0;32m    234\u001b[0m         \u001b[39m\"\u001b[39m\u001b[39mCould not import pytube python package. \u001b[39m\u001b[39m\"\u001b[39m\n\u001b[0;32m    235\u001b[0m         \u001b[39m\"\u001b[39m\u001b[39mPlease install it with `pip install pytube`.\u001b[39m\u001b[39m\"\u001b[39m\n\u001b[0;32m    236\u001b[0m     )\n\u001b[0;32m    237\u001b[0m yt \u001b[39m=\u001b[39m YouTube(\u001b[39mf\u001b[39m\u001b[39m\"\u001b[39m\u001b[39mhttps://www.youtube.com/watch?v=\u001b[39m\u001b[39m{\u001b[39;00m\u001b[39mself\u001b[39m\u001b[39m.\u001b[39mvideo_id\u001b[39m}\u001b[39;00m\u001b[39m\"\u001b[39m)\n\u001b[0;32m    238\u001b[0m video_info \u001b[39m=\u001b[39m {\n\u001b[0;32m    239\u001b[0m     \u001b[39m\"\u001b[39m\u001b[39mtitle\u001b[39m\u001b[39m\"\u001b[39m: yt\u001b[39m.\u001b[39mtitle \u001b[39mor\u001b[39;00m \u001b[39m\"\u001b[39m\u001b[39mUnknown\u001b[39m\u001b[39m\"\u001b[39m,\n\u001b[0;32m    240\u001b[0m     \u001b[39m\"\u001b[39m\u001b[39mdescription\u001b[39m\u001b[39m\"\u001b[39m: yt\u001b[39m.\u001b[39mdescription \u001b[39mor\u001b[39;00m \u001b[39m\"\u001b[39m\u001b[39mUnknown\u001b[39m\u001b[39m\"\u001b[39m,\n\u001b[1;32m   (...)\u001b[0m\n\u001b[0;32m    247\u001b[0m     \u001b[39m\"\u001b[39m\u001b[39mauthor\u001b[39m\u001b[39m\"\u001b[39m: yt\u001b[39m.\u001b[39mauthor \u001b[39mor\u001b[39;00m \u001b[39m\"\u001b[39m\u001b[39mUnknown\u001b[39m\u001b[39m\"\u001b[39m,\n\u001b[0;32m    248\u001b[0m }\n",
      "\u001b[1;31mImportError\u001b[0m: Could not import pytube python package. Please install it with `pip install pytube`."
     ]
    }
   ],
   "source": [
    "youtube_loader = YoutubeLoader.from_youtube_url(\"https://youtu.be/5p248yoa3oE?si=TATgA2GMtcQ_MjEA\")\n",
    "youtube_loader.add_video_info= True\n",
    "transcript = youtube_loader.load()\n",
    "video_info= youtube_loader._get_video_info()\n",
    "# video_publish_date= video_info[\"publish_date\"]\n",
    "\n",
    "\n",
    "text_splitter = RecursiveCharacterTextSplitter(separators=[\"\\n\", \" \"], chunk_size=10000, chunk_overlap=2200)\n",
    "docs = text_splitter.split_documents(transcript)\n",
    "# print (f\"You have {len(docs)} docs. First doc is {llm3.get_num_tokens(docs[0].page_content)} tokens\")\n",
    "\n"
   ]
  },
  {
   "cell_type": "markdown",
   "metadata": {},
   "source": [
    "'- Opportunities in AI: Dr. Andrew discusses the opportunities in AI and compares it to electricity as a general-purpose technology.\\n- AI Tools: Dr. Andrew talks about supervised learning and generative AI as important tools in AI.\\n- Supervised Learning: Dr. Andrew explains how supervised learning is used for labeling things or computing input to outputs.\\n- Generative AI: Dr. Andrew discusses the use of generative AI in text generation and how it is based on supervised learning.\\n- Large-scale Supervised Learning: Dr. Andrew explains the importance of training large AI models with large amounts of data for better performance.\\n- Large Language Models: Dr. Andrew talks about the power of large language models in both consumer and developer applications.\\n- Workflow of AI Projects: Dr. Andrew explains the workflow of a machine learning project, including collecting labeled data, training an AI model, and deploying it.\\n- Prompt-based AI: Dr. Andrew discusses the advantages of prompt-based AI, which allows for faster development and deployment of AI applications.\\n- Flood of AI Applications: Dr. Andrew predicts a flood of custom AI applications that can be built by many teams around the world.\\n- Code Example: Dr. Andrew provides a code example for writing a sentiment classifier using Python and OpenAI tools.\\n- GPT Models: The speaker refers to prompt-based AI and using GPT models to deploy AI applications quickly.\\n- OpenAI: The speaker mentions using important tools from OpenAI to build a sentiment classifier.\\n- AI opportunities: The speaker discusses the value and potential growth of different AI technologies, such as supervised learning and generative AI.\\n- AI for business: The speaker mentions the financial value of AI, particularly in supervised learning, and the potential for creating long-term value with AI applications.\\n- AI for agriculture: The speaker gives an example of using AI to help an agriculture company with projects like wheat height measurement and weed removal.\\n- AI for food industry: The speaker mentions working with a pizza maker to use AI for tasks like ensuring even cheese spread.\\n- Low code and no code AI tools: The speaker talks about the trend of AI tools that make it easier for users to customize and deploy AI applications without extensive coding.\\n- Future of AI: The speaker discusses the potential for more AI applications to be built in a shorter time frame and the underestimated magnitude of AI applications that will be developed.\\n- AI use cases: The speaker mentions various AI use cases, such as sentiment classification, material grading, and cloth grading.\\n- AI for diverse industries: Pursuing diverse opportunities in industries like maritime shipping, education, financial services, and healthcare.\\n- AI stack: Different layers of AI development, including hardware, infrastructure, developer tools, and applications.\\n- AI for romantic relationship coaching: Using AI to provide relationship mentoring.\\n- Building startups: The process of validating ideas, recruiting CEOs, and iterating on projects.\\n- AI for Fuel Efficiency in Ships: Using AI to make ships more fuel efficient, including the idea of a \"Google Maps for ships\" and the impact on cost savings and the environment.\\n- Partnering with Subject Matter Experts: The importance of partnering with subject matter experts in different industries to leverage their expertise and generate new startup ideas.\\n- Concrete Ideas for Validation: The value of having concrete ideas at the ideation stage for efficient validation and execution, compared to exploring multiple alternatives.\\n- Risks and Social Impact of AI: The ethical considerations and risks associated with AI, including bias, fairness, accuracy, and the potential disruption of jobs.\\n- Artificial General Intelligence (AGI): The timeline and challenges of achieving AGI, the differences between biological and digital intelligence, and the current limitations of AI.\\n- Hype and Extinction Risk: Addressing the hype around AI and its potential to create extinction risks for humanity, emphasizing the control and limitations of AI.\\n- AI Automation: The exposure of different jobs to AI automation and the shift in which jobs are most affected.\\n- Value of AI: The creation of tremendous value using AI and the responsibility to ensure the well-being of individuals whose livelihoods are disrupted.\\n- Hype about AGI: The hype surrounding artificial general intelligence (AGI) and the belief that it is still decades away.\\n- Biological vs Digital Path to Intelligence: The differences between the biological path to intelligence (humans) and the digital path to intelligence (AI).\\n- Overblown Hype about AI: The belief that AI creates an extinction risk for humanity and the counterargument that AI can be controlled and managed safely.\\n- Real Extinction Risks: The actual risks to humanity, such as pandemics and climate change, and the potential role of AI in finding solutions.\\n- \n",
    "\n",
    "Opportunities with AI: The new opportunities created by AI as a general-purpose technology and the importance of building concrete use cases.\\n- Tesla\\'s AI cluster and full self-driving version \n",
    "\n",
    "12.\\n- OpenAI\\'s revenue and usage of ChatGPT.\\n- OpenAI\\'s ChatGPT Enterprise.\\n- Meta\\'s launch of Code Llama.\\n- AI beating humans in drone racing.\\n- a16z\\'s grant program for open source AI developers.\\n- Google\\'s launch of Duet AI and new AI tools and capabilities in Google Workspace.\\n- Open source AI models: Grants given by a16z to prominent open source AI developers.\\n- Google AI announcements: Launch of duet AI and Google workspaces, new AI tools and capabilities, AI watermarking product.\\n- Silicon Valley Elite building a city: Plans to transform acres of land into a bustling metropolis.\\n- Audiogram: AI-generated images with added text.\\n- Runway\\'s Gen 2: Release of motion slider feature for generative art.\\n- Apple\\'s hardware for AI: M1 and M2 chips as powerful options for running AI models.\\n- Future of AI on mobile phones: Predictions of chat GPT level models on mobile phones.\\n- AI-generated Pixar-like film: Glitch, created by one person using AI technology.\\n- AI and copyright: Regulators seeking input on AI copyright policy, questions on training AI models, copyright of AI-generated material, and copyright liability with AI.'\n",
    "\n",
    "\n",
    "\n",
    "\n",
    "\n",
    "\n",
    "\n",
    "\n",
    "\n",
    "<bound method BaseModel.json of Document(page_content=\"[Music] it is my pleasure to welcome Dr Andrew right Andrew is the managing General partner of AI fund founder of deep learning AI and learn and Landing AI chairman and co-founder of Coursera in an Adjunct professor of computer science here at Stanford previously he had started and led the Google brain team which had helped Google adopt modern Ai and he was also director of the Stanford AI lab about 8 million people one in one thousand persons on the planet have taken an AI class from him and through both his education and his AI work he has changed numerous lives please welcome Dr Andrew [Music] foreign Thank you Lisa it's good to see everyone so what I want to do today is um chat you about some opportunities in AI so I've been seeing AI is a new electricity one of the difficult things to understand about AI is that it is a general purpose technology meaning that it's not useful only for one thing but it's useful for lots of different applications kind of like electricity if I was to ask you what is electricity good for you know it's not any one thing it's a lot of things so what I'd like to do is start off sharing with you how I view the technology landscape and this will lead into the set of opportunities so a lot of hype lots of excitement about Ai and I think a good way to think about AI is as a collection of tools so this includes a technique called supervised learning which is very good at recognizing things or labeling things and gents of AI which is relatively new exciting development if you're familiar with AI you may have heard of other tools but I'm going to talk less about these additional tools and I'll focus on a on what I think are currently the two most important tools which are supervised learning and generative AI so supervised learning is very good at labeling things or very good at Computing input to outputs or a to B mappings given input a give me an output B for example given an email we can use supervised learning to label it as spam or not spam the most lucrative application of this that I've ever worked on is probably online advertising we're given an ad we can label our users likely to click on it and therefore show more relevant ads for self-driving calls given the sensitive readings of a car we can label it with where the other cars one project that my team AI fan worked on was ship route optimization where given a route that the ship is taking or considering taking we can label that with how much fuel we think to consume and use this uh make ships more fuel efficient still a lot of work in automated visual inspection in factories so you can take a picture of a smartphone that was just manufactured and label is just scratched right near the defect in it or if you want to build a restaurant review reputation monitoring system you can have little piece of software that looks at online restaurant reviews and labels that as positive or negative sentiment so one nice thing one cool thing about supervised learning is that it's not useful for one thing it's useful for all of these different applications and many more besides let me just walk through you know concretely the workflow of one example of a supervised learning labeling things kind of project if you want to build a system to label restaurant reviews you then collect a few data points or collect the data set where say you know the pastrami sandwich is great to say that is positive civil is slow that's negative my favorite chicken curry that's positive and um here I've shown three data points whether you're building this you may get thousands of data points like this or thousands of trading examples we call it and the workflow of a machine learning project or an AI project is you get labeled data maybe thousands of you know data points then you have an AI engineering team trained an AI model to learn from this data and then finally you would find maybe a cloud service to run the trained AI model and then you can feed it you know best bubble tea I've ever had and that's positive sense of it and so I think the last decade was maybe the decade of large-scale supervised learning what we found starting about 10 15 years ago was if you were to train a small AI model to train a small neural network with small deep learning algorithm Basia small AI model maybe not on a very powerful computer then as you fed more data is performance would get better for a little bit but then it would flatten out it would plateau and it would stop being able to use the data to get better and better but if you were to train a very large AI model lots of compute on maybe powerful gpus then as we scaled up the amount of data we gave the machine learning model this performance would kind of keep on getting better and better so this is why when I started let the Google brain team the primary mission that I directed the team to solve at the time was let's just build really really large neural networks that we then fed a lot of data to and that recipe fortunately worked and I think the idea of driving large compute and large scale of data that recipes really helped us driven a lot of AI progress over the last decade so if that was the last decade of AI I think this decade is turning out to be also doing everything we had to supervised learning but adding to it um the exciting tool of genus of AI so many of you maybe all of you will play their chai GPT and Bob and so on but just you know given a piece of text which you call a prompt like I love eating if you run this multiple times maybe you get bagels cream cheese or my Mother's Meatloaf or um Ultra friends and the AI system can generate output like that um given the amounts of Buzz and excitement about genes of AI I thought I'd take just half a slide to you know say a little bit about how this works so it turns out that germs of AI at least this type of text generation the core of it is using supervised learning that inputs output mappings to repeatedly predict the next word and so if your system reads on the Internet it's a sentence like my favorite food is a bagel with cream cheese and locks then this is translated into a few data points where if it sees my favorite food is a in this case try to guess that the right next word was Bagel or my favorite food is a bagel try to guess next word is with um and similarly if it sees that you know in this case the right guess for the next word would have been cream so by taking text that you find on the internet or other sources and by using this input output supervised learning to try to repeatedly predict the next word if you train a very large AI system on hundreds of billions of words so in the case of the largest models now more than a trillion words then you get a large language model like chai GP and you know there are additional other important technical details I talked about predicting the next word technically these systems predict the next sub word or part of work called the token and then there are other techniques like rohf for further tuning the AI output to be more helpful honest and harmless but at the heart of it is this using supervised learning to repeatedly predict the next word that that's really what's enabling um the exciting you know really fantastic progress on large language models so um while many people have seen large English models as a fantastic consumer tool you can go to a website like track GPS website or Bots or other large language models and use it I think it's fantastic too there's one of the trends I think is still underappreciated which is the power of large language models not only not just as consumer two but as a developer to so it turns out that um there are applications that used to take me months to build that a lot of people can now build much faster by using a large language model so specifically the workflow for supervised learning building the restaurant review system say would be that you need to get a bunch of label data and you know maybe that takes a month to get a few thousand data points and then have an AI team train and tune and really get you know optimized performance on your AI model maybe that'll take three months then find a cloud service to run it make sure it's running robustly make sure it's recognized maybe that'll take another three months so pretty realistic timeline for building a commercial grade machine Learning System is like six to 12 months right so teams I've LED will often took you know roughly six to 12 months to build and deploy these systems and and some of them turned out to be really valuable uh but this is a realistic timeline for building and deploying a commercial grade AI system in contrast with prompt base AI we write a prompt this is what the workflow looks like you can specify a prompt that takes maybe minutes or hours and then you can deploy it to the cloud and that takes maybe hours or days so there are certain AI applications that used to take me you know literally six months maybe a year to build that many teams around the world can now build in maybe a week and I think this is already starting but the best is still yet to come this is starting to open up a flood of a lot more AI applications that can be built by a lot of people so I think many people still underestimate the magnitude of the floods of custom AI applications that I think is going to come down the pipe now I know you probably were not expecting me to write code in this presentation but that's what I'm going to do um so it turns out this is all the code I need um in order to write a sentiment classifier so I'm gonna you know some of you will know python I guess important tools from open Ai and then I have this prompt that says classify the text to below delimited by three dashes as having either a positive or negative sentiment I don't know I I don't know what I rather fantastic time back at Stanford GSB on we learned a lot and also made great new friends all right so that's my prompt and now I'm just gonna run it\", metadata={'source': '5p248yoa3oE'})>\n",
    "\n"
   ]
  }
 ],
 "metadata": {
  "kernelspec": {
   "display_name": "Python 3",
   "language": "python",
   "name": "python3"
  },
  "language_info": {
   "codemirror_mode": {
    "name": "ipython",
    "version": 3
   },
   "file_extension": ".py",
   "mimetype": "text/x-python",
   "name": "python",
   "nbconvert_exporter": "python",
   "pygments_lexer": "ipython3",
   "version": "3.10.11"
  },
  "orig_nbformat": 4
 },
 "nbformat": 4,
 "nbformat_minor": 2
}
